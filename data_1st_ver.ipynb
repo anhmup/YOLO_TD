{
 "cells": [
  {
   "cell_type": "code",
   "execution_count": 1,
   "metadata": {},
   "outputs": [],
   "source": [
    "import os \n",
    "import numpy as np\n",
    "import cv2\n",
    "import pandas as pd\n",
    "from PIL import ImageFont, ImageDraw, Image\n",
    "import jsonlines\n",
    "import PyPDF2\n",
    "import pdf2image\n",
    "from PyPDF2 import PdfFileReader\n",
    "from matplotlib.patches import  Rectangle"
   ]
  },
  {
   "cell_type": "code",
   "execution_count": 2,
   "metadata": {},
   "outputs": [
    {
     "name": "stdout",
     "output_type": "stream",
     "text": [
      "detection_filepath :D:/fintabnet/fintabnet/FinTabNet_1.0.0_cell_train.jsonl\n"
     ]
    }
   ],
   "source": [
    "data_fintabnet_path =  \"D:/fintabnet/fintabnet/\"\n",
    "subdir = \"train\"\n",
    "structure_filename  = \"FinTabNet_1.0.0_cell_\" + subdir + \".jsonl\"\n",
    "detection_filename = \"FinTabNet_1.0.0_table_\" + subdir +  \".jsonl\"\n",
    "structure_filepath = os.path.join(data_fintabnet_path, structure_filename)\n",
    "detection_filepath = os.path.join(data_fintabnet_path, detection_filename)\n",
    "print(f'detection_filepath :{structure_filepath}')\n",
    "with open(structure_filepath, \"r\") as f:\n",
    "    structure_lines = f.readlines()"
   ]
  },
  {
   "cell_type": "code",
   "execution_count": 14,
   "metadata": {},
   "outputs": [
    {
     "ename": "IndentationError",
     "evalue": "unindent does not match any outer indentation level (<tokenize>, line 12)",
     "output_type": "error",
     "traceback": [
      "\u001b[1;36m  File \u001b[1;32m<tokenize>:12\u001b[1;36m\u001b[0m\n\u001b[1;33m    data_frame[file_name].append(box)\u001b[0m\n\u001b[1;37m    ^\u001b[0m\n\u001b[1;31mIndentationError\u001b[0m\u001b[1;31m:\u001b[0m unindent does not match any outer indentation level\n"
     ]
    }
   ],
   "source": [
    "i = 0\n",
    "data_frame = {}\n",
    "with jsonlines.open(detection_filepath,'r') as f:\n",
    "# with jsonlines.open('FinTabNet_1.0.0_table_example.jsonl','r') as f:\n",
    "    for data in f:\n",
    "        if i > 1 :\n",
    "            break\n",
    "        file_name = data['filename']\n",
    "        print(f'file_name :{file_name}')\n",
    "        if file_name in data_frame:\n",
    "                 = data['bbox']\n",
    "            data_frame[file_name].append(box) \n",
    "        else:\n",
    "            box = data['bbox']  \n",
    "            update = {file_name : [box]}\n",
    "            data_frame.update(**update)\n",
    "        i = i +1 "
   ]
  }
 ],
 "metadata": {
  "kernelspec": {
   "display_name": "v1",
   "language": "python",
   "name": "python3"
  },
  "language_info": {
   "codemirror_mode": {
    "name": "ipython",
    "version": 3
   },
   "file_extension": ".py",
   "mimetype": "text/x-python",
   "name": "python",
   "nbconvert_exporter": "python",
   "pygments_lexer": "ipython3",
   "version": "3.8.20"
  }
 },
 "nbformat": 4,
 "nbformat_minor": 2
}
